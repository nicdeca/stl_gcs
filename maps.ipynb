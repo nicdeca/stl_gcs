{
 "cells": [
  {
   "cell_type": "markdown",
   "metadata": {},
   "source": [
    "# Creating Maps 🌍\n",
    "\n",
    "If you made it to this point, then you should have understood how STL specifications are defined and how you can work with them in code. before delving into how to plan trajectroies that satisfy a given STL specification, we need to understand how to create maps and workspaces within which our robot will live.\n",
    "\n",
    "A workspace is nothing but the bounded state within which your robot state will leave. This, as you might expect, is defined again by a polytope. For the sake of simplicity we here consider a simple single integrator for which we create a simple workspace and a map (i.e. a workspace with obstacles)"
   ]
  },
  {
   "cell_type": "code",
   "execution_count": 1,
   "metadata": {},
   "outputs": [],
   "source": [
    "from   matplotlib import pyplot as plt\n",
    "import numpy as np\n",
    "np.random.seed(3)\n",
    "\n",
    "from stl_tool.stl import GOp, FOp, ContinuousLinearSystem, BoxPredicate2d\n",
    "from stl_tool.environment               import Map\n",
    "from stl_tool.polyhedron                import Box2d\n",
    "\n",
    "from stl_tool.planners import StlRRTStar\n",
    "from json import loads\n",
    "import os "
   ]
  },
  {
   "cell_type": "markdown",
   "metadata": {},
   "source": [
    "We can now create some specification and visualize where the predicates are located."
   ]
  },
  {
   "cell_type": "code",
   "execution_count": 2,
   "metadata": {},
   "outputs": [
    {
     "data": {
      "image/png": "[encoded data removed]",
      "text/plain": [
       "<Figure size 1000x1000 with 1 Axes>"
      ]
     },
     "metadata": {},
     "output_type": "display_data"
    }
   ],
   "source": [
    "##########################################################\n",
    "# Create work space and mapo\n",
    "##########################################################\n",
    "workspace     = Box2d(x = 0,y = 0,size = 10) # square 10x10 (this is a 2d workspace, so the system it refers to must be 2d)\n",
    "map           = Map(workspace = workspace) # the map object contains the workpace, but it also contains the obstacles of your environment.\n",
    "\n",
    "# load obstacles\n",
    "\n",
    "# create obstacles\n",
    "# some simple boxes\n",
    "map.add_obstacle(Box2d(x = 3,y = 3,size = 1))\n",
    "map.add_obstacle(Box2d(x = 4,y = -4,size = 1))\n",
    "map.add_obstacle(Box2d(x = -2,y = -1,size = 1))\n",
    "map.add_obstacle(Box2d(x = 0,y = -2,size = 1.5))\n",
    "# you can create some rectangles even\n",
    "map.add_obstacle(Box2d(x = 0,y = 3,size = [1,3]))\n",
    "\n",
    "map.enlarge_obstacle(border_size=0.2)  # enlarge obstacles\n",
    "\n",
    "map.draw()\n",
    "\n",
    "\n",
    "##########################################################\n",
    "# STL specifications\n",
    "##########################################################\n",
    "\n",
    "center         = np.array([-0., 0.])\n",
    "box1_predicate = BoxPredicate2d(\n",
    "    size=2.8, center=center, name=\"some nice predicate\"\n",
    ")  # creates a predicate for a bounded box over the first two dimensions\n",
    "box2_predicate = BoxPredicate2d(\n",
    "    size=2.8, center=center + np.array([-3, 0.0]), name=\"another one\"\n",
    ")  # creates a predicate for a bounded box over the first two dimensions\n",
    "box3_predicate = BoxPredicate2d(\n",
    "    size=2.8, center=center + np.array([3, 0.0]), name=\"the third one\"\n",
    ")  # creates a predicate for a bounded box over the first two dimensions\n",
    "formula        = (GOp(10.,14.) >> box1_predicate)  & (FOp(17.,20.) >> box2_predicate) & (FOp(29.,30.) >> box3_predicate) \n",
    "\n",
    "fig,ax = map.draw_formula_predicate(formula = formula, alpha =0.2)\n",
    "plt.show()"
   ]
  },
  {
   "cell_type": "code",
   "execution_count": 8,
   "metadata": {},
   "outputs": [
    {
     "name": "stdout",
     "output_type": "stream",
     "text": [
      "[[0.00514672 0.04408098]\n",
      " [0.00298762 0.04568332]]\n"
     ]
    }
   ],
   "source": [
    "##########################################################\n",
    "# system and dynamics\n",
    "##########################################################\n",
    "A             = np.random.rand(2,2)*0.1\n",
    "B             = np.diag([1.5,1.5])\n",
    "dt            = 1.\n",
    "system        = ContinuousLinearSystem(A, B, dt = dt)\n",
    "max_input     = 5.\n",
    "input_bounds  = Box2d(x = 0.,y = 0.,size = max_input*2) \n",
    "\n",
    "print(A)\n",
    "\n",
    "\n",
    "fig,ax = map.draw_formula_predicate(formula = formula, alpha =0.2)\n",
    "plt.show()"
   ]
  }
 ],
 "metadata": {
  "kernelspec": {
   "display_name": ".venv",
   "language": "python",
   "name": "python3"
  },
  "language_info": {
   "codemirror_mode": {
    "name": "ipython",
    "version": 3
   },
   "file_extension": ".py",
   "mimetype": "text/x-python",
   "name": "python",
   "nbconvert_exporter": "python",
   "pygments_lexer": "ipython3",
   "version": "3.12.3"
  }
 },
 "nbformat": 4,
 "nbformat_minor": 2
}
